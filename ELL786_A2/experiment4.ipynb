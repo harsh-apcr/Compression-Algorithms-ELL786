{
 "cells": [
  {
   "cell_type": "code",
   "execution_count": 1,
   "id": "aca62127",
   "metadata": {
    "scrolled": false
   },
   "outputs": [
    {
     "name": "stdout",
     "output_type": "stream",
     "text": [
      "11000\n"
     ]
    },
    {
     "name": "stderr",
     "output_type": "stream",
     "text": [
      "D:\\Course Projects\\ELL786\\ELL786_A2\\jpeg_ls.py:72: RuntimeWarning: overflow encountered in ubyte_scalars\n",
      "  g3 = c-a\n",
      "D:\\Course Projects\\ELL786\\ELL786_A2\\jpeg_ls.py:93: RuntimeWarning: overflow encountered in ubyte_scalars\n",
      "  cum_error[context_val] += grayscale_img[i][j] - predicted_seq[i][j]\n",
      "D:\\Course Projects\\ELL786\\ELL786_A2\\jpeg_ls.py:70: RuntimeWarning: overflow encountered in ubyte_scalars\n",
      "  g1 = d-b\n",
      "D:\\Course Projects\\ELL786\\ELL786_A2\\jpeg_ls.py:71: RuntimeWarning: overflow encountered in ubyte_scalars\n",
      "  g2 = b-c\n",
      "D:\\Course Projects\\ELL786\\ELL786_A2\\jpeg_ls.py:65: RuntimeWarning: overflow encountered in ubyte_scalars\n",
      "  predicted_seq[i][j] = min(a, b) if c >= max(a, b) else max(a, b) if c <= min(a, b) else a+b-c\n"
     ]
    },
    {
     "ename": "AttributeError",
     "evalue": "'list' object has no attribute 'tobytes'",
     "output_type": "error",
     "traceback": [
      "\u001b[1;31m---------------------------------------------------------------------------\u001b[0m",
      "\u001b[1;31mAttributeError\u001b[0m                            Traceback (most recent call last)",
      "Input \u001b[1;32mIn [1]\u001b[0m, in \u001b[0;36m<module>\u001b[1;34m\u001b[0m\n\u001b[0;32m     20\u001b[0m encode_blue \u001b[38;5;241m=\u001b[39m jpeg_ls\u001b[38;5;241m.\u001b[39mencode_residual_seq(res_seq_blue, M)\n\u001b[0;32m     22\u001b[0m newfile \u001b[38;5;241m=\u001b[39m \u001b[38;5;28mopen\u001b[39m(\u001b[38;5;124m\"\u001b[39m\u001b[38;5;124m./images/compressed_machine\u001b[39m\u001b[38;5;124m\"\u001b[39m, \u001b[38;5;124m\"\u001b[39m\u001b[38;5;124mwb\u001b[39m\u001b[38;5;124m\"\u001b[39m)\n\u001b[1;32m---> 23\u001b[0m newfile\u001b[38;5;241m.\u001b[39mwrite(\u001b[43mencode_red\u001b[49m\u001b[38;5;241;43m.\u001b[39;49m\u001b[43mtobytes\u001b[49m())\n\u001b[0;32m     24\u001b[0m newfile\u001b[38;5;241m.\u001b[39mwrite(encode_green\u001b[38;5;241m.\u001b[39mtobytes())\n\u001b[0;32m     25\u001b[0m newfile\u001b[38;5;241m.\u001b[39mwrite(encode_blue\u001b[38;5;241m.\u001b[39mtobytes())\n",
      "\u001b[1;31mAttributeError\u001b[0m: 'list' object has no attribute 'tobytes'"
     ]
    }
   ],
   "source": [
    "import jpeg_ls\n",
    "import imageio as iio\n",
    "\n",
    "# img is in RGBA format , opacity 0 for png images\n",
    "img = iio.imread(\"./images/machine.png\", format='png')\n",
    "\n",
    "# get grayscale values for each color\n",
    "red_img = [[pixel[0] for pixel in row] for row in img]\n",
    "green_img = [[pixel[1] for pixel in row] for row in img]\n",
    "blue_img = [[pixel[2] for pixel in row] for row in img]\n",
    "\n",
    "M = 256     # alphabet set\n",
    "\n",
    "res_seq_red = jpeg_ls.de_correlation(red_img, M)\n",
    "res_seq_green = jpeg_ls.de_correlation(green_img, M)\n",
    "res_seq_blue = jpeg_ls.de_correlation(blue_img, M)\n",
    "\n",
    "encode_red = jpeg_ls.encode_residual_seq(res_seq_red, M)\n",
    "encode_green = jpeg_ls.encode_residual_seq(res_seq_green, M)\n",
    "encode_blue = jpeg_ls.encode_residual_seq(res_seq_blue, M)\n",
    "\n",
    "newfile = open(\"./images/compressed_machine\", \"wb\")\n",
    "newfile.write(encode_red.tobytes())\n",
    "newfile.write(encode_green.tobytes())\n",
    "newfile.write(encode_blue.tobytes())\n",
    "\n",
    "newfile.close()\n",
    "\n"
   ]
  },
  {
   "cell_type": "code",
   "execution_count": null,
   "id": "50f859bc",
   "metadata": {},
   "outputs": [],
   "source": []
  }
 ],
 "metadata": {
  "kernelspec": {
   "display_name": "Python 3 (ipykernel)",
   "language": "python",
   "name": "python3"
  },
  "language_info": {
   "codemirror_mode": {
    "name": "ipython",
    "version": 3
   },
   "file_extension": ".py",
   "mimetype": "text/x-python",
   "name": "python",
   "nbconvert_exporter": "python",
   "pygments_lexer": "ipython3",
   "version": "3.10.1"
  }
 },
 "nbformat": 4,
 "nbformat_minor": 5
}
